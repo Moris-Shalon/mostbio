{
  "nbformat": 4,
  "nbformat_minor": 0,
  "metadata": {
    "accelerator": "GPU",
    "colab": {
      "name": "YOLOv4-mostbio.ipynb",
      "provenance": [],
      "collapsed_sections": [],
      "machine_shape": "hm"
    },
    "kernelspec": {
      "name": "python386jvsc74a57bd01baa965d5efe3ac65b79dfc60c0d706280b1da80fedb7760faf2759126c4f253",
      "display_name": "Python 3.8.6 64-bit"
    },
    "language_info": {
      "name": "python",
      "version": "3.8.6"
    },
    "metadata": {
      "interpreter": {
        "hash": "1baa965d5efe3ac65b79dfc60c0d706280b1da80fedb7760faf2759126c4f253"
      }
    }
  },
  "cells": [
    {
      "cell_type": "code",
      "metadata": {
        "id": "PcW--EKcOw1i",
        "colab": {
          "base_uri": "https://localhost:8080/"
        },
        "outputId": "02387743-3c18-44f4-9da4-09fd19bf4107"
      },
      "source": [
        "#@title check GPU, number of CPU cores and threads\n",
        "# %%script false --no-raise-error\n",
        "%%bash\n",
        "# check free ram\n",
        "free -h\n",
        "# check GPU (should be P100-PCIE-16GB)\n",
        "nvidia-smi -L\n",
        "# check CPU (should be Intel(R) Xeon(R) CPU @ 2.30 GHz)\n",
        "lscpu | grep 'Model name'\n",
        "# check number of cores per socket (should be Core(s) per socket: 2)\n",
        "lscpu | grep 'Core(s) per socket'\n",
        "# check number of threads per core (should be Thread(s) per core: 2)\n",
        "lscpu | grep 'Thread(s) per core'\n",
        "# utility for monitoring and managing GPU(s)\n",
        "nvidia-smi\n",
        "# check CUDA version in google colab\n",
        "nvcc --version"
      ],
      "execution_count": null,
      "outputs": []
    },
    {
      "cell_type": "code",
      "metadata": {
        "id": "MzdtsgOEmnt4",
        "cellView": "form"
      },
      "source": [
        "%%script false --no-raise-error\n",
        "#@title checking gpu (python code)\n",
        "gpu_info = !nvidia-smi\n",
        "gpu_info = '\\n'.join(gpu_info)\n",
        "if gpu_info.find('failed') >= 0:\n",
        "  print('Select the Runtime > \"Change runtime type\" menu to enable a GPU accelerator, ')\n",
        "  print('and then re-execute this cell.')\n",
        "else:\n",
        "  print(gpu_info)"
      ],
      "execution_count": null,
      "outputs": []
    },
    {
      "cell_type": "code",
      "metadata": {
        "id": "9QVmsB3Im1FA",
        "colab": {
          "base_uri": "https://localhost:8080/"
        },
        "outputId": "c9fb15a6-c04b-49d0-dab9-132491327a75"
      },
      "source": [
        "#@title check RAM\n",
        "from psutil import virtual_memory\n",
        "ram_gb = virtual_memory().total / 1e9\n",
        "print('Your runtime has {:.1f} gigabytes of available RAM\\n'.format(ram_gb))\n",
        "\n",
        "if ram_gb < 20:\n",
        "  print('To enable a high-RAM runtime, select the Runtime > \"Change runtime type\"')\n",
        "  print('menu, and then select High-RAM in the Runtime shape dropdown. Then, ')\n",
        "  print('re-execute this cell.')\n",
        "else:\n",
        "  print('You are using a high-RAM runtime!')"
      ],
      "execution_count": null,
      "outputs": []
    },
    {
      "cell_type": "code",
      "metadata": {
        "id": "ouazDfXgm4Hl"
      },
      "source": [
        "#@title connect Google Drive (not used because automatically connecting to it if jupyter notebook is not shared with other accounts in Google Drive)\n",
        "%%script false --no-raise-error\n",
        "%cd /content/\n",
        "from google.colab import drive\n",
        "drive.mount('/content/gdrive')"
      ],
      "execution_count": null,
      "outputs": []
    },
    {
      "cell_type": "code",
      "metadata": {
        "id": "gKFXtqPGnTQM",
        "colab": {
          "base_uri": "https://localhost:8080/"
        },
        "outputId": "da0c87b3-0eeb-473d-9292-dcd97281b689"
      },
      "source": [
        "#@title link Google Drive to folder /mydrive\n",
        "%%bash\n",
        "# this creates a symbolic link so that now the path /content/gdrive/My\\ Drive/ is equal to /mydrive\n",
        "for gdrivefolder in \"/content/gdrive/My\\ Drive\" \"/content/drive/MyDrive\"; do\n",
        "  if [[ -d $gdrivefolder ]]; then \n",
        "    ln -s \"$gdrivefolder\" /mydrive; \n",
        "  fi;\n",
        "done;\n",
        "\n",
        "#ln -s /content/gdrive/My\\ Drive/ /mydrive"
      ],
      "execution_count": null,
      "outputs": []
    },
    {
      "cell_type": "code",
      "metadata": {
        "id": "r7ZMe72Inck-",
        "colab": {
          "base_uri": "https://localhost:8080/"
        },
        "outputId": "dcf2212b-20c9-429e-ef45-4a4449fc40d2"
      },
      "source": [
        "#!ls -la /content/drive/MyDrive/\n",
        "!ls -la /mydrive\n",
        "!ls -la /mydrive/"
      ],
      "execution_count": null,
      "outputs": []
    },
    {
      "cell_type": "code",
      "metadata": {
        "id": "3YqvIMlNqDjn",
        "colab": {
          "base_uri": "https://localhost:8080/"
        },
        "outputId": "f8119437-f90a-42ff-f48b-dbf91555d23e"
      },
      "source": [
        "#@title check OS and kernel version\n",
        "!uname -a\n",
        "!lsb_release -a"
      ],
      "execution_count": null,
      "outputs": []
    },
    {
      "cell_type": "code",
      "metadata": {
        "id": "zhAZBcp6u5yE"
      },
      "source": [
        "#@title update all packages (disabled)\n",
        "%%script false --no-raise-error\n",
        "%%bash\n",
        "sudo apt update -y ;\n",
        "sudo apt list --upgradable ;\n",
        "sudo apt upgrade -y ;\n",
        "sudo apt install --fix-broken --fix-missing -y ;\n",
        "sudo apt autoremove;"
      ],
      "execution_count": null,
      "outputs": []
    },
    {
      "cell_type": "code",
      "metadata": {
        "id": "D7lghnAAu-Bm",
        "colab": {
          "base_uri": "https://localhost:8080/"
        },
        "outputId": "a13befab-c49a-4ae7-ab38-ca5feb624d4f"
      },
      "source": [
        "#@title build ImageMagick from source\n",
        "# %%script false --no-raise-error\n",
        "%%bash\n",
        "# Install imagemagick for Ubuntu 18.04.5\n",
        "sudo apt update -y ;\n",
        "sudo apt-get install -y fontconfig fontconfig-config fonts-dejavu-core fonts-droid-fallback fonts-noto-mono ghostscript gsfonts hicolor-icon-theme libxt6 libavahi-client3 libavahi-common-data libavahi-common3 libcairo2 libcups2 libcupsfilters1 libcupsimage2 libdatrie1 libdjvulibre-text libdjvulibre21 libfftw3-double3 libfontconfig1 libgraphite2-3 libgs9 libgs9-common libharfbuzz0b libijs-0.35 libilmbase12 libjbig0 libjbig2dec0 libjpeg-turbo8 libjpeg8 liblcms2-2 liblqr-1-0  libnetpbm10 libopenexr22 libpango-1.0-0 libpangocairo-1.0-0 libpangoft2-1.0-0 libpaper-utils libpaper1 libpixman-1-0 libthai-data libthai0 libtiff5 libwmf0.2-7 libxcb-render0 libxcb-shm0 libxrender1 netpbm poppler-data;\n",
        "sudo apt-get -qq install -y build-essential;\n",
        "# wget https://www.imagemagick.org/download/ImageMagick.tar.gz\n",
        "# tar xzf ImageMagick.tar.gz\n",
        "# for i in ImageMagick-*; do echo cd $i; done\n",
        "pwd;\n",
        "if [[ -d \"./ImageMagick\" ]]; then rm -rf ImageMagick; fi;\n",
        "git clone https://github.com/ImageMagick/ImageMagick.git ImageMagick;\n",
        "cd ImageMagick;\n",
        "git reset --hard $(curl --silent \"https://api.github.com/repos/ImageMagick/ImageMagick/releases/latest\" | grep '\"target_commitish\":' | sed -E 's/.*\"([^\"]+)\".*/\\1/');\n",
        "./configure;\n",
        "make;\n",
        "sudo make install;\n",
        "sudo ldconfig /usr/local/lib;\n",
        "pwd;\n",
        "cd ../;\n",
        "pwd;"
      ],
      "execution_count": null,
      "outputs": []
    },
    {
      "cell_type": "code",
      "metadata": {
        "id": "lJ83rTNuvM5i",
        "colab": {
          "base_uri": "https://localhost:8080/"
        },
        "outputId": "4f57111a-8bcd-4c93-d2f1-472e41e4386c"
      },
      "source": [
        "#@title check compiled ImageMagick version\n",
        "!magick -version"
      ],
      "execution_count": null,
      "outputs": []
    },
    {
      "cell_type": "code",
      "metadata": {
        "id": "76H5OQYlvPr2",
        "colab": {
          "base_uri": "https://localhost:8080/",
          "height": 139
        },
        "outputId": "c38ec95b-db17-4430-ccb3-c0cfcdeca056"
      },
      "source": [
        "#@title clone darknet repo and make some changes\n",
        "!git clone https://github.com/AlexeyAB/darknet\n",
        "%cd darknet\n",
        "!git reset --hard ac8ebca0639f445ae456a1da05a13496ae0fcdc2\n",
        "get_ipython().system(\"pip install pytz\")\n",
        "import re\n",
        "from shutil import copyfile\n",
        "from time import strftime\n",
        "from datetime import datetime\n",
        "from pytz import timezone as pytztimezone\n",
        "\n",
        "# timestr = strftime(\"%Y%m%d-%H%M%S\")\n",
        "MSK = pytztimezone('Europe/Moscow')\n",
        "datetime_msk = datetime.now(MSK)\n",
        "timestr = datetime_msk.strftime(\"%Y%m%d-%H%M%S\")\n",
        "print(timestr)\n",
        "\n",
        "cfgs = [\"src/image.c\", \"src/image_opencv.cpp\", \"data/labels/make_labels.py\", \"src/network.c\"]\n",
        "# cfgs = [\"src/image.c\", \"src/image_opencv.cpp\", \"data/labels/make_labels.py\"]\n",
        "\n",
        "for i in cfgs:\n",
        "    input_file = open(i, 'r')\n",
        "    input_read = input_file.read()\n",
        "    input_file.close()\n",
        "    input_file = open(i, 'w')\n",
        "    if i == \"src/image.c\":\n",
        "        input_read = re.sub(r'\\s{3,4}assert\\(x < m\\.w && y < m\\.h && c < m\\.c\\);', r'    // assert(x < m.w && y < m.h && c < m.c);', input_read, flags = re.M)\n",
        "        input_read = re.sub(r'(float (\\w*) = get_color\\(\\d*,\\s*offset,\\s*classes\\)\\s*;)$', r'\\1 \\2 = 1.0;', input_read, flags = re.M)\n",
        "        input_read = re.sub(r'image label = get_label_v3\\(alphabet, labelstr, \\(im\\.h\\*\\.02\\)\\);', r'image label = get_label_v3(alphabet, labelstr, (im.h*.03));', input_read, flags = re.M)\n",
        "        input_read = re.sub(r'(strcat\\(labelstr, names\\[selected_detections\\[i\\]\\.best_class\\]\\);\\s*)$', r'\\1 int k; k = selected_detections[i].best_class; char bufferj[100]; sprintf(bufferj, \" : %.1f %% \", selected_detections[i].det.prob[k] * 100); strcat (labelstr, bufferj);', input_read, flags = re.M)\n",
        "    elif i == \"src/image_opencv.cpp\":\n",
        "        input_read = re.sub(r'save_mat_png\\(img, \"chart\\.png\"\\);', (r'save_mat_png(img, \"charts/chart-' + timestr + r'.png\");'), input_read, flags = re.M)\n",
        "        # input_read = re.sub(r'save_mat_png\\(img, \"chart\\.png\"\\);', r'save_mat_png(img, \"charts/chart.png\");', input_read, flags = re.M)\n",
        "    elif i == \"data/labels/make_labels.py\":\n",
        "        input_read = re.sub(r'convert -fill black -background white -bordercolor white', r'convert -fill white -background black -bordercolor black', input_read, flags = re.M)\n",
        "        input_read = re.sub(r'for (\\w*) in \\[(\\s?\\d*\\s?,?){8}\\]', r'for \\1 in [10,20,30,40,50,60,70,80]', input_read, flags = re.M)\n",
        "        input_read = re.sub(r's/\\d*-1', r's/10-1', input_read, flags = re.M)\n",
        "        input_read = re.sub(r\"font = .*\", r\"font = 'Futura-Normal'\", input_read, flags = re.M)\n",
        "    elif i == \"src/network.c\":\n",
        "        input_read = re.sub(r'\\s{3,4}(network_predict\\s*\\(\\s*\\*net,\\s*im\\.data\\)\\s*;\\s*$)', r'    if (net->batch != 1) set_batch_network(net, batch_size); \\1', input_read, flags = re.M)\n",
        "    input_file.write(input_read)\n",
        "    input_file.close()\n",
        "\n",
        "font = 'Futura-Normal-Regular.ttf'\n",
        "copyfile(f'/mydrive/yolov4/{font}', f'/usr/local/share/fonts/{font}')"
      ],
      "execution_count": null,
      "outputs": []
    },
    {
      "cell_type": "code",
      "metadata": {
        "id": "p37zwnRWvpMI",
        "colab": {
          "base_uri": "https://localhost:8080/"
        },
        "outputId": "4c35e511-b28c-42db-81e2-d24ee417e2f3"
      },
      "source": [
        "#@title create labels (for bndbox)\n",
        "%%bash\n",
        "pwd\n",
        "cd data/labels/\n",
        "pwd\n",
        "python3 make_labels.py\n",
        "cd ../../\n",
        "pwd\n",
        "\n",
        "# ln -s /content/gdrive/My\\ Drive/yolov4/charts/ charts\n",
        "for gdrivefolder in \"/content/gdrive/My\\ Drive/yolov4/charts\" \"/content/drive/MyDrive/yolov4/charts\"; do\n",
        "  if [[ -d $gdrivefolder ]]; then \n",
        "    ln -s \"$gdrivefolder\" /content/darknet/charts ;\n",
        "  fi;\n",
        "done;\n"
      ],
      "execution_count": null,
      "outputs": []
    },
    {
      "cell_type": "code",
      "metadata": {
        "id": "DhKhAS-AvrSI"
      },
      "source": [
        "#@title edit makefile for CPU or GPU (if exist)\n",
        "# %cd /content/darknet\n",
        "input_file = open('Makefile', 'r')\n",
        "input_read = input_file.read()\n",
        "input_file.close()\n",
        "input_file = open('Makefile', 'w')\n",
        "gpu_info = !nvidia-smi\n",
        "gpu_info = '\\n'.join(gpu_info)\n",
        "def editmakefile(param, value, input_read):\n",
        "  input_read = re.sub((param + r'\\s*=\\s*\\d*'), (param + r'=' + value), input_read, flags = re.M)\n",
        "  return input_read\n",
        "if gpu_info.find('failed') >= 0:\n",
        "  for i in (r'AVX', r'OPENMP', r'OPENCV'):\n",
        "    input_read = editmakefile(i, r'1', input_read)\n",
        "else:\n",
        "  for i in (r'OPENCV', r'GPU', r'CUDNN', r'CUDNN_HALF'):\n",
        "    input_read = editmakefile(i, r'1', input_read)\n",
        "        \n",
        "input_file.write(input_read)\n",
        "input_file.close()"
      ],
      "execution_count": null,
      "outputs": []
    },
    {
      "cell_type": "code",
      "metadata": {
        "id": "oEdOhs2Mwkax",
        "colab": {
          "base_uri": "https://localhost:8080/"
        },
        "outputId": "0ef6f52f-a518-42a4-f451-b15ac665aa1f"
      },
      "source": [
        "#@title build / compile Darknet from source code\n",
        "%%bash\n",
        "# make darknet (builds darknet so that you can then use the darknet executable file to run or train object detectors)\n",
        "make"
      ],
      "execution_count": null,
      "outputs": []
    },
    {
      "cell_type": "code",
      "metadata": {
        "id": "WO8eyN535cM5",
        "colab": {
          "base_uri": "https://localhost:8080/"
        },
        "outputId": "1867c957-66fe-4b50-f912-f1a3ac53505f"
      },
      "source": [
        "#@title define helper python functions\n",
        "def imShow(path):\n",
        "  import cv2\n",
        "  import matplotlib.pyplot as plt\n",
        "  %matplotlib inline\n",
        "\n",
        "  image = cv2.imread(path)\n",
        "  height, width = image.shape[:2]\n",
        "  resized_image = cv2.resize(image,(3*width, 3*height), interpolation = cv2.INTER_CUBIC)\n",
        "\n",
        "  fig = plt.gcf()\n",
        "  fig.set_size_inches(18, 10)\n",
        "  plt.axis(\"off\")\n",
        "  plt.imshow(cv2.cvtColor(resized_image, cv2.COLOR_BGR2RGB))\n",
        "  plt.show()\n",
        "\n",
        "# use this to upload files\n",
        "def upload():\n",
        "  from google.colab import files\n",
        "  uploaded = files.upload() \n",
        "  for name, data in uploaded.items():\n",
        "    with open(name, 'wb') as f:\n",
        "      f.write(data)\n",
        "      print ('saved file', name)\n",
        "\n",
        "# use this to download a file  \n",
        "def download(path):\n",
        "  from google.colab import files\n",
        "  files.download(path)\n",
        "\n",
        "\"\"\"\n",
        "# use this to generate train.txt and test.txt\n",
        "def generatetxt(imgpath):\n",
        "  import os\n",
        "  \n",
        "  image_files = []\n",
        "  os.chdir(os.path.join(\"data\", imgpath))\n",
        "  for filename in os.listdir(os.getcwd()):\n",
        "    if filename.endswith(\".jpg\"):\n",
        "      image_files.append(\"data/\" + imgpath + \"/\" + filename)\n",
        "  os.chdir(\"..\")\n",
        "  with open(imgpath + \".txt\", \"w\") as outfile:\n",
        "    for image in image_files:\n",
        "      outfile.write(image)\n",
        "      outfile.write(\"\\n\")\n",
        "    outfile.close()\n",
        "  os.chdir(\"..\")\n",
        "\"\"\"\n",
        "\n",
        "\n",
        "gpu_info = !nvidia-smi\n",
        "gpu_info = '\\n'.join(gpu_info)\n",
        "  \n",
        "#get_ipython().system(\"ls -la /usr/bin/nvidia-smi\")\n",
        "# memory footprint support libraries/code\n",
        "#get_ipython().system(\"ln -sf /opt/bin/nvidia-smi /usr/bin/nvidia-smi\")\n",
        "\n",
        "get_ipython().system(\"pip install psutil\")\n",
        "get_ipython().system(\"pip install humanize\")\n",
        "get_ipython().system(\"pip install gputil\")\n",
        "\n",
        "# XXX: only one GPU on Colab and isn’t guaranteed\n",
        "\n",
        "def printm():\n",
        " import psutil\n",
        " import humanize\n",
        " import os\n",
        " import GPUtil as GPU\n",
        "\n",
        " process = psutil.Process(os.getpid())\n",
        " print(\"Gen RAM Free: \" + humanize.naturalsize( psutil.virtual_memory().available ), \" | Proc size: \" + humanize.naturalsize( process.memory_info().rss))\n",
        " if gpu_info.find('failed') < 0:\n",
        "  GPUs = GPU.getGPUs()\n",
        "  gpu = GPUs[0]\n",
        "  print(\"GPU RAM Free: {0:.0f}MB | Used: {1:.0f}MB | Util {2:3.0f}% | Total {3:.0f}MB\".format(gpu.memoryFree, gpu.memoryUsed, gpu.memoryUtil*100, gpu.memoryTotal))\n",
        "printm()"
      ],
      "execution_count": null,
      "outputs": []
    },
    {
      "cell_type": "code",
      "metadata": {
        "id": "GnAQyA_z5eZH",
        "colab": {
          "base_uri": "https://localhost:8080/"
        },
        "outputId": "fc1d21b3-a081-482b-9f51-a22f43dea808"
      },
      "source": [
        "#@title copy dataset properties\n",
        "\"\"\"\n",
        "# this is where my datasets are stored within my Google Drive (I created a yolov4 folder to store all important files for custom training) \n",
        "!ls /mydrive/yolov4\n",
        "\"\"\"\n",
        "# %cd /content/darknet/\n",
        "\n",
        "from shutil import copyfile\n",
        "\n",
        "#for i in ('generate_train.py', 'generate_test.py', 'yolov4.conv.137'):\n",
        "#  copyfile(f'/mydrive/yolov4/{i}', i)\n",
        "for i in ('obj.data', 'obj.names', 'obj.zip'):\n",
        "  copyfile(f'/mydrive/yolov4/{i}', f'data/{i}')\n",
        "# copyfile('/mydrive/yolov4/yolov4.conv.137', 'yolov4.conv.137')\n",
        "!wget https://github.com/AlexeyAB/darknet/releases/download/darknet_yolo_v4_pre/yolov4.conv.137\n",
        "!wget https://github.com/AlexeyAB/darknet/releases/download/darknet_yolo_v4_pre/yolov4-tiny.conv.29\n",
        "# copyfile('cfg/yolov4.cfg', 'cfg/yolov4-custom.cfg')\n",
        "# copyfile('cfg/yolov4-tiny.cfg', 'cfg/yolov4-tiny-custom.cfg')"
      ],
      "execution_count": null,
      "outputs": []
    },
    {
      "cell_type": "code",
      "metadata": {
        "id": "SY-OYzhb5iMq",
        "colab": {
          "base_uri": "https://localhost:8080/"
        },
        "outputId": "4e291e58-a1b7-493b-84ef-e28141acaf90"
      },
      "source": [
        "#@title delete unnecessary .txt files\n",
        "get_ipython().system(r\"unzip data/obj.zip -d data/\")\n",
        "\n",
        "from os import remove, path\n",
        "for i in ('/content/darknet/data/train/classes.txt', '/content/darknet/data/test/classes.txt'):\n",
        "  if path.isfile(i):\n",
        "    remove(i)"
      ],
      "execution_count": null,
      "outputs": []
    },
    {
      "cell_type": "code",
      "metadata": {
        "id": "bhVdFsfP5lcS"
      },
      "source": [
        "#@title generate train and test .txt lists\n",
        "# %cd /content/darknet/\n",
        "import os\n",
        "os.getcwd()\n",
        "def generatetxt(selection):\n",
        "  test_image_files = []\n",
        "  os.chdir(os.path.join(\"data\", selection))\n",
        "  for filename in os.listdir(os.getcwd()):\n",
        "    if filename.endswith(\".jpeg\") or filename.endswith(\".jpg\"):\n",
        "      test_image_files.append(f\"data/{selection}/\" + filename)\n",
        "  os.chdir(\"..\")\n",
        "  with open(f\"{selection}.txt\", \"w\") as outfile:\n",
        "    for image in test_image_files:\n",
        "      outfile.write(image)\n",
        "      outfile.write(\"\\n\")\n",
        "    outfile.close()\n",
        "  os.chdir(\"..\")\n",
        "\n",
        "generatetxt(\"train\")\n",
        "generatetxt(\"test\")"
      ],
      "execution_count": null,
      "outputs": []
    },
    {
      "cell_type": "markdown",
      "metadata": {
        "id": "juXLrH895tpw"
      },
      "source": [
        "# Step 5: Train Your Custom Object Detector!\n",
        "The time has finally come! You have made it to the moment of truth! You are now ready to train your custom YOLOv4 object detector on whatever crazy classes you have decided on. So run the following command. (-dont_show flag stops chart from popping up since Colab Notebook can't open images on the spot, -map flag overlays mean average precision on chart to see how accuracy of your model is, only add map flag if you have a validation dataset)\n",
        "```\n",
        "!./darknet detector train <path to obj.data> <path to custom config> yolov4.conv.137 -dont_show -map\n",
        "```\n",
        "**TIP:** This training could take several hours depending on how many iterations you chose in the .cfg file. You will want to let this run as you sleep or go to work for the day, etc. However, Colab Cloud Service kicks you off it's VMs if you are idle for too long (30-90 mins).\n",
        "\n",
        "To avoid this hold (CTRL + SHIFT + i) at the same time to open up the inspector view on your browser.\n",
        "\n",
        "Paste the following code into your console window and hit **Enter**\n",
        "```\n",
        "function ClickConnect(){\n",
        "console.log(\"Working\"); \n",
        "console.log(new Date().getHours() + \":\" + new Date().getMinutes() + \":\" + new Date().getSeconds())\n",
        "// console.log(new Date());\n",
        "document\n",
        "  .querySelector('#top-toolbar > colab-connect-button')\n",
        "  .shadowRoot.querySelector('#connect')\n",
        "  .click() \n",
        "}\n",
        "setInterval(ClickConnect,60000)\n",
        "```\n",
        "or right clock on connect button and paste this to browser console:\n",
        "```\n",
        "function ClickConnect() {\n",
        "  console.log(\"Clicked on connect button\");\n",
        "  document.querySelector(\"colab-connect-button\").click()\n",
        "}\n",
        "setInterval(ClickConnect,60000)\n",
        "```\n",
        "Looks like this, it will click the screen every 10 minutes so that you don't get kicked off for being idle! HACKS!\n",
        "\n",
        "Use the code below to automatically reconnect if conntection lost, and automatically start train (run all cells, pressing F9):\n",
        "```\n",
        "function ClickConnect(){\n",
        "console.log(\"Working. Time: \" + new Date().getHours() + \":\" + new Date().getMinutes() + \":\" + new Date().getSeconds()); \n",
        "document\n",
        "  .querySelector('#top-toolbar > colab-connect-button')\n",
        "  .shadowRoot.querySelector('#connect')\n",
        "  .click()\n",
        "}\n",
        "function runAll() {\n",
        "  const F9Event = {key: \"F9\", code: \"F9\", metaKey: true, keyCode: 120};\n",
        "  document.dispatchEvent(new KeyboardEvent(\"keydown\", F9Event));\n",
        "}\n",
        "function DismissDialog() {\n",
        "    if (document.querySelector(\"colab-dialog > paper-dialog > div.buttons > paper-button#cancel\") != null) {\n",
        "        document.querySelector(\"colab-dialog > paper-dialog > div.buttons > paper-button#cancel\").click();\n",
        "        return console.log(setTimeout(CheckConnected, 1800000));\n",
        "    } else {\n",
        "        runAll();\n",
        "        return console.log(setTimeout(CheckConnected, 60000));\n",
        "    };\n",
        "}\n",
        "function CheckConnected() {\n",
        "    if (colab.global.notebook.kernel.isConnected() == false) { \n",
        "        colab.global.notebook.connectToKernel();\n",
        "        return console.log(setTimeout(DismissDialog, 30000));\n",
        "    } else {\n",
        "        ClickConnect();\n",
        "        return console.log(setTimeout(CheckConnected, 60000));\n",
        "    }\n",
        "}\n",
        "console.log(CheckConnected());\n",
        "```\n"
      ]
    },
    {
      "cell_type": "code",
      "metadata": {
        "id": "BK46L4OL5zZh"
      },
      "source": [
        "#@title stop 'Run all' (disabled)\n",
        "%%script false --no-raise-error\n",
        "# This stops 'Run all' at this cell by causing an error\n",
        "assert False"
      ],
      "execution_count": null,
      "outputs": []
    },
    {
      "cell_type": "code",
      "metadata": {
        "id": "UTZ4hKUO59ov"
      },
      "source": [
        "#@title edit cfgs for training\n",
        "import re\n",
        "from shutil import copyfile\n",
        "\n",
        "# origincfgs = [\"cfg/yolov4.cfg\", \"cfg/yolov4-tiny.cfg\"]\n",
        "cfgs = [\"cfg/yolov4-custom.cfg\", \"cfg/yolov4-tiny-custom.cfg\"]\n",
        "# for i in range(len(cfgs)):\n",
        "    # copyfile(origincfgs[i], cfgs[i])\n",
        "\n",
        "gpu_info = !nvidia-smi\n",
        "gpu_info = '\\n'.join(gpu_info)\n",
        "\n",
        "for i in cfgs:\n",
        "    input_file = open(i, 'r')\n",
        "    input_read = input_file.read()\n",
        "    input_file.close()\n",
        "    input_file = open(i, 'w')\n",
        "    # set batch size to 64\n",
        "    input_read = re.sub(r'batch\\s*=\\s*\\d*', r'batch=64', input_read, flags = re.M)\n",
        "    # set subdivisions to 32 for yolov4 and 4 for yolov4-tiny\n",
        "    if i == \"cfg/yolov4-custom.cfg\":\n",
        "        if gpu_info.find('failed') < 0:\n",
        "            input_read = re.sub(r'subdivisions\\s*=\\s*\\d*', r'subdivisions=32', input_read, flags = re.M)\n",
        "        else:\n",
        "            input_read = re.sub(r'subdivisions\\s*=\\s*\\d*', r'subdivisions=64', input_read, flags = re.M)\n",
        "    elif i == \"cfg/yolov4-tiny-custom.cfg\":\n",
        "        if gpu_info.find('failed') < 0:\n",
        "            input_read = re.sub(r'subdivisions\\s*=\\s*\\d*', r'subdivisions=4', input_read, flags = re.M)\n",
        "        else:\n",
        "            input_read = re.sub(r'subdivisions\\s*=\\s*\\d*', r'subdivisions=8', input_read, flags = re.M)\n",
        "    # set channels number to 1 (grayscale, not RGB)\n",
        "    input_read = re.sub(r'channels\\s*=\\s*\\d*', r'channels=1', input_read, flags = re.M)\n",
        "    # set hue to 0 (do not randomize)\n",
        "    # input_read = re.sub(r'hue\\s*=.*', r'hue=0 # set to 0.1 to randomly change hue during training', input_read, flags = re.M)\n",
        "    # set number of filters before yolo layer to 54 ((classes+5)*3)\n",
        "    # input_read = re.sub(r'(size=1\\nstride=1\\npad=1\\n)filters\\s*=\\s*\\d*', r'\\1filters=54', input_read, flags = re.M)\n",
        "    input_read = re.sub(r'(size=1\\nstride=1\\npad=1\\n)filters\\s*=\\s*\\d*', r'\\1filters=45', input_read, flags = re.M)\n",
        "    # set number of yolo classes to 13\n",
        "    # input_read = re.sub(r'classes\\s*=\\s*\\d*', r'classes = 13', input_read, flags = re.M)\n",
        "    input_read = re.sub(r'classes\\s*=\\s*\\d*', r'classes = 10', input_read, flags = re.M)\n",
        "    # set max_batches to 26000 (13 classes * 2000)\n",
        "    # input_read = re.sub(r'max_batches\\s*=\\s*\\d*', r'max_batches = 26000', input_read, flags = re.M)\n",
        "    input_read = re.sub(r'max_batches\\s*=\\s*\\d*', r'max_batches = 100000', input_read, flags = re.M)\n",
        "    # set steps to 20800 (26000*0,8) and 23400 (26000*0,9)\n",
        "    # input_read = re.sub(r'steps\\s*=\\s*\\d*\\s*,\\s*\\d*', r'steps = 20800, 23400', input_read, flags = re.M)\n",
        "    input_read = re.sub(r'steps\\s*=\\s*\\d*\\s*,\\s*\\d*', r'steps = 80000, 90000', input_read, flags = re.M)\n",
        "    #set max_chart_lost (maximum Y on chart.png) to 5\n",
        "    if re.search(r'max_chart_loss', input_read):\n",
        "        input_read = re.sub(r'max_chart_loss\\s*=\\s*\\d*\\s*', r'max_chart_loss = 1', input_read, flags = re.M)\n",
        "    else:\n",
        "        input_read = re.sub(r'(hue.*)', r'\\1\\nmax_chart_loss=1', input_read, flags = re.M)\n",
        "    input_file.write(input_read)\n",
        "    input_file.close()"
      ],
      "execution_count": null,
      "outputs": []
    },
    {
      "cell_type": "code",
      "metadata": {
        "id": "pWi-kfLA5-UF"
      },
      "source": [
        "#@title start/resume train\n",
        "# %%script false --no-raise-error\n",
        "%%bash\n",
        "# model=\"yolov4-custom\"\n",
        "model=\"yolov4-tiny-custom\"\n",
        "# pretrainedweights=\"yolov4.conv.137\"\n",
        "pretrainedweights=\"yolov4-tiny.conv.29\"\n",
        "outputs=\"/mydrive/yolov4/outputs\"\n",
        "weightsdir=\"/mydrive/yolov4/backup\"\n",
        "#get_ipython().system(r\"./darknet detector train data/obj.data cfg/$model.cfg $weightsdir/$model\\_last.weights -dont_show -map >> $outputs/$(date +%Y.%m.%d)-$model.txt 2>&1\")\n",
        "if [ -f $outputs/$(date +%Y.%m.%d)-$model-RAM.txt ]; then \n",
        "  echo -e \"\\n\\n\\n\\n\\nRAMtotal RAMused RAMfree\" >> $outputs/$(date +%Y.%m.%d)-$model-RAM.txt; \n",
        "else \n",
        "  echo \"RAMtotal RAMused RAMfree\" >> $outputs/$(date +%Y.%m.%d)-$model-RAM.txt; \n",
        "fi;\n",
        "if [[ $(nvidia-smi) != *\"failed\"* ]]; then\n",
        "  if [[ ! -f $outputs/$(date +%Y.%m.%d)-$model-VRAM.csv ]]; then \n",
        "    echo \"VRAMutilization, VRAMtotal, VRAMused, VRAMfree\" >> $outputs/$(date +%Y.%m.%d)-$model-VRAM.csv ;\n",
        "  fi;\n",
        "fi;\n",
        "# resume start new train or resume previous if weights file persist\n",
        "if [[ -f $weightsdir/$model\\_last.weights ]]; then\n",
        "    ./darknet detector train data/obj.data cfg/$model.cfg $weightsdir/$model\\_last.weights -dont_show -map >> $outputs/$(date +%Y.%m.%d)-$model.txt 2>&1 & \n",
        "elif [[ ! -f $weightsdir/$model\\_final.weights ]]; then\n",
        "    ./darknet detector train data/obj.data cfg/$model.cfg $pretrainedweights -dont_show -map >> $outputs/$(date +%Y.%m.%d)-$model.txt 2>&1 & \n",
        "fi;\n",
        "sleep 60;\n",
        "if [[ $(nvidia-smi) != *\"failed\"* ]]; then\n",
        "  while [ $(pgrep darknet | wc -c) != 0 ]; do free -m | grep \"Mem:\" | awk '{print $2,$3,$4}' >> $outputs/$(date +%Y.%m.%d)-$model-RAM.txt; sleep 60; done & \n",
        "  while [ $(pgrep darknet | wc -c) != 0 ]; do nvidia-smi --query-gpu=utilization.memory,memory.total,memory.used,memory.free --format=csv | tail -n 1 >> $outputs/$(date +%Y.%m.%d)-$model-VRAM.csv; sleep 60; done;\n",
        "else \n",
        "  while [ $(pgrep darknet | wc -c) != 0 ]; do free -m | grep \"Mem:\" | awk '{print $2,$3,$4}' >> $outputs/$(date +%Y.%m.%d)-$model-RAM.txt; sleep 60; done;\n",
        "fi;"
      ],
      "execution_count": null,
      "outputs": []
    },
    {
      "cell_type": "code",
      "metadata": {
        "id": "BLHeetY06Fz4"
      },
      "source": [
        "#@title showing chart.png\n",
        "# %%script false --no-raise-error\n",
        "\n",
        "# show chart.png of how custom object detector did with training\n",
        "imShow((r'charts/chart-' + timestr + r'.png'))\n",
        "download((r'charts/chart-' + timestr + r'.png'))"
      ],
      "execution_count": null,
      "outputs": []
    },
    {
      "cell_type": "code",
      "metadata": {
        "id": "ZZqk9PmP_Ezy"
      },
      "source": [
        "#@title measure average precision\n",
        "# %%script false --no-raise-error\n",
        "%%bash\n",
        "# model=\"yolov4-custom\"\n",
        "model=\"yolov4-tiny-custom\"\n",
        "outputs=\"/mydrive/yolov4/outputs\"\n",
        "weightsdir=\"/mydrive/yolov4/backup\"\n",
        "./darknet detector map data/obj.data cfg/$model.cfg $weightsdir/$model\\_best.weights -dont_show -map 2>&1"
      ],
      "execution_count": null,
      "outputs": []
    },
    {
      "cell_type": "code",
      "metadata": {
        "id": "LHpQgB97_Lrz"
      },
      "source": [
        "#@title edit cfgs for testing trained model\n",
        "%%script false --no-raise-error\n",
        "import re\n",
        "from shutil import copyfile\n",
        "\n",
        "# copy yolov4 to yolov4-custom and yolov4-tiny to yolov4-tiny-custom\n",
        "# origincfgs = [\"cfg/yolov4.cfg\", \"cfg/yolov4-tiny.cfg\"]\n",
        "cfgs = [\"cfg/yolov4-custom.cfg\", \"cfg/yolov4-tiny-custom.cfg\"]\n",
        "# for i in range(2):\n",
        "    # copyfile(origincfgs[i], cfgs[i])\n",
        "\n",
        "for i in cfgs:\n",
        "    input_file = open(i, 'r')\n",
        "    input_read = input_file.read()\n",
        "    input_file.close()\n",
        "    input_file = open(i, 'w')\n",
        "    # set batch size to 1\n",
        "    input_read = re.sub(r'batch\\s*=\\s*\\d*', r'batch=1', input_read, flags = re.M)\n",
        "    # set subdivisions to 1\n",
        "    input_read = re.sub(r'subdivisions\\s*=\\s*\\d*', r'subdivisions=1', input_read, flags = re.M)\n",
        "    # set channels number to 1 (grayscale, not RGB)\n",
        "    input_read = re.sub(r'channels\\s*=\\s*\\d*', r'channels=1', input_read, flags = re.M)\n",
        "    # set hue to 0 (do not randomize)\n",
        "    # input_read = re.sub(r'hue\\s*=.*', r'hue=0 # set to 0.1 to randomly change hue during training', input_read, flags = re.M)\n",
        "    # set number of filters before yolo layer to 54 ((classes+5)*3)\n",
        "    # input_read = re.sub(r'(size=1\\nstride=1\\npad=1\\n)filters\\s*=\\s*\\d*', r'\\1filters=54', input_read, flags = re.M)\n",
        "    input_read = re.sub(r'(size=1\\nstride=1\\npad=1\\n)filters\\s*=\\s*\\d*', r'\\1filters=45', input_read, flags = re.M)\n",
        "    # set number of yolo classes to 13\n",
        "    # input_read = re.sub(r'classes\\s*=\\s*\\d*', r'classes = 13', input_read, flags = re.M)\n",
        "    input_read = re.sub(r'classes\\s*=\\s*\\d*', r'classes = 10', input_read, flags = re.M)\n",
        "    # set max_batches to 26000 (13 classes * 2000)\n",
        "    # input_read = re.sub(r'max_batches\\s*=\\s*\\d*', r'max_batches = 26000', input_read, flags = re.M)\n",
        "    input_read = re.sub(r'max_batches\\s*=\\s*\\d*', r'max_batches = 100000', input_read, flags = re.M)\n",
        "    # set steps to 20800 (26000*0,8) and 23400 (26000*0,9)\n",
        "    # input_read = re.sub(r'steps\\s*=\\s*\\d*\\s*,\\s*\\d*', r'steps = 20800, 23400', input_read, flags = re.M)\n",
        "    input_read = re.sub(r'steps\\s*=\\s*\\d*\\s*,\\s*\\d*', r'steps = 80000, 90000', input_read, flags = re.M)\n",
        "    #set max_chart_lost (maximum Y on chart.png) to 5\n",
        "    if re.search(r'max_chart_loss', input_read):\n",
        "        input_read = re.sub(r'max_chart_loss\\s*=\\s*\\d*\\s*', r'max_chart_loss = 1', input_read, flags = re.M)\n",
        "    else:\n",
        "        input_read = re.sub(r'(hue.*)', r'\\1\\nmax_chart_loss=1', input_read, flags = re.M)\n",
        "    input_file.write(input_read)\n",
        "    input_file.close()"
      ],
      "execution_count": null,
      "outputs": []
    },
    {
      "cell_type": "code",
      "metadata": {
        "id": "ip6F-ViO_NwZ"
      },
      "source": [
        "%%script false --no-raise-error\n",
        "# run your custom detector with this command (upload an image to your google drive to test, thresh flag sets accuracy that detection must be in order to show it)\n",
        "#!./darknet detector test data/obj.data cfg/yolov4-obj.cfg /mydrive/yolov4/backup/yolov4-obj_last.weights /mydrive/images/car2.jpg -thresh 0.3\n",
        "#imShow('predictions.jpg')\n",
        "#get_ipython().system(r\"randomimage=$(ls data/test/*.jpeg | sort -R | tail -1); ./darknet detector test data/obj.data cfg/yolov4-tiny-custom.cfg /mydrive/yolov4/backup/yolov4-tiny-custom_last.weights $randomimage -thresh 0.3; echo $randomimage\")\n",
        "for fname in os.listdir('./data/test/'):\n",
        "    if fname.endswith('jpg'):\n",
        "      extension=\"jpg\"\n",
        "    elif fnmame.endswith('jpeg'):\n",
        "      extension=\"jpeg\"\n",
        "\n",
        "!randomimage=$(ls data/test/*.$extension | sort -R | tail -1); ./darknet detector test data/obj.data cfg/yolov4-tiny-custom.cfg /mydrive/yolov4/backup/yolov4-tiny-custom_last.weights $randomimage -thresh 0.3; echo $randomimage\n",
        "imShow('predictions.jpg')\n",
        "download('predictions.jpg')"
      ],
      "execution_count": null,
      "outputs": []
    },
    {
      "cell_type": "code",
      "metadata": {
        "id": "NthfebZi_Q2e"
      },
      "source": [
        "%%script false --no-raise-error\n",
        "#use this to check amount of free VRAM (GPU RAM)\n",
        "printm()"
      ],
      "execution_count": null,
      "outputs": []
    }
  ]
}